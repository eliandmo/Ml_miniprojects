{
 "cells": [
  {
   "cell_type": "markdown",
   "id": "c2e0f2e1",
   "metadata": {},
   "source": [
    "# **Tipos de modelos**"
   ]
  },
  {
   "cell_type": "markdown",
   "id": "1e4ab186",
   "metadata": {},
   "source": [
    "## **KNN Project**"
   ]
  },
  {
   "cell_type": "markdown",
   "id": "0b8fab6b",
   "metadata": {},
   "source": [
    "hola, esto es una prueba"
   ]
  }
 ],
 "metadata": {
  "kernelspec": {
   "display_name": "base",
   "language": "python",
   "name": "python3"
  },
  "language_info": {
   "codemirror_mode": {
    "name": "ipython",
    "version": 3
   },
   "file_extension": ".py",
   "mimetype": "text/x-python",
   "name": "python",
   "nbconvert_exporter": "python",
   "pygments_lexer": "ipython3",
   "version": "3.13.5"
  }
 },
 "nbformat": 4,
 "nbformat_minor": 5
}