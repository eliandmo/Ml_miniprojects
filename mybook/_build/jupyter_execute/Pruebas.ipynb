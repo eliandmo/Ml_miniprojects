{
 "cells": [
  {
   "cell_type": "markdown",
   "id": "80b69d0b",
   "metadata": {},
   "source": [
    "# **Prueba 1**"
   ]
  }
 ],
 "metadata": {
  "language_info": {
   "codemirror_mode": {
    "name": "ipython",
    "version": 3
   },
   "file_extension": ".py",
   "mimetype": "text/x-python",
   "name": "python",
   "nbconvert_exporter": "python",
   "pygments_lexer": "ipython3",
   "version": "3.13.5"
  }
 },
 "nbformat": 4,
 "nbformat_minor": 5
}