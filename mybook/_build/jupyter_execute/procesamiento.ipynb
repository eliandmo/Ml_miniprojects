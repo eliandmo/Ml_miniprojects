{
 "cells": [
  {
   "cell_type": "markdown",
   "id": "5f44ba0b",
   "metadata": {},
   "source": [
    "# **Preprocesamiento**"
   ]
  },
  {
   "cell_type": "markdown",
   "id": "88bec22f",
   "metadata": {},
   "source": [
    "En esta parte del pryecto se pretende mostrar los datos crudos\n"
   ]
  },
  {
   "cell_type": "markdown",
   "id": "5582c801",
   "metadata": {},
   "source": [
    "### **Librerias**"
   ]
  },
  {
   "cell_type": "code",
   "execution_count": 1,
   "id": "3b3a6b61",
   "metadata": {},
   "outputs": [],
   "source": [
    "import pandas as pd"
   ]
  }
 ],
 "metadata": {
  "kernelspec": {
   "display_name": "base",
   "language": "python",
   "name": "python3"
  },
  "language_info": {
   "codemirror_mode": {
    "name": "ipython",
    "version": 3
   },
   "file_extension": ".py",
   "mimetype": "text/x-python",
   "name": "python",
   "nbconvert_exporter": "python",
   "pygments_lexer": "ipython3",
   "version": "3.13.5"
  }
 },
 "nbformat": 4,
 "nbformat_minor": 5
}